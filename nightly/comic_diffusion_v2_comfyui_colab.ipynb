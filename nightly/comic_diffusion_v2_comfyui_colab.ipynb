{
  "cells": [
    {
      "cell_type": "markdown",
      "metadata": {
        "id": "view-in-github",
        "colab_type": "text"
      },
      "source": [
        "<a href=\"https://colab.research.google.com/github/hsunsmile/ComfyUI_VLM_nodes/blob/main/nightly/comic_diffusion_v2_comfyui_colab.ipynb\" target=\"_parent\"><img src=\"https://colab.research.google.com/assets/colab-badge.svg\" alt=\"Open In Colab\"/></a>"
      ]
    },
    {
      "cell_type": "code",
      "execution_count": null,
      "metadata": {
        "id": "SaAJk33ppFw1"
      },
      "outputs": [],
      "source": [
        "import os\n",
        "\n",
        "!apt -y update -qq\n",
        "!apt -y install -qq aria2\n",
        "!pip install -q numpy==1.26.4\n",
        "#!pip install -q protobuf==3.20.3 # Trying an older version of protobuf\n",
        "#!pip install -q torch torchvision torchaudio torchtext torchdata --extra-index-url https://download.pytorch.org/whl/cu118 -U\n",
        "#!pip install -q xformers triton -U\n",
        "#!pip install -q mediapipe addict yapf fvcore omegaconf"
      ]
    },
    {
      "cell_type": "code",
      "source": [
        "!pip install -q torch==1.13.1+cu116 torchvision==0.14.1+cu116 torchaudio==0.13.1 torchtext==0.14.1 torchdata==0.5.1 --extra-index-url https://download.pytorch.org/whl/cu116 -U\n",
        "!pip install -q xformers==0.0.16 triton==2.0.0 -U\n",
        "!pip install -q mediapipe==0.9.1.0 addict yapf fvcore omegaconf"
      ],
      "metadata": {
        "id": "wxBaFZzAkO0Q"
      },
      "execution_count": null,
      "outputs": []
    },
    {
      "cell_type": "code",
      "metadata": {
        "id": "e4a03eb9"
      },
      "source": [
        "from google.colab import drive\n",
        "drive.mount('/content/drive')"
      ],
      "execution_count": null,
      "outputs": []
    },
    {
      "cell_type": "code",
      "source": [
        "%cd /content/drive/MyDrive\n",
        "!git clone -b v1.2 https://github.com/camenduru/ComfyUI\n",
        "%cd ComfyUI\n",
        "!pip install -q -r requirements.txt\n",
        "!git reset --hard\n",
        "!git clone -b v1.2 https://github.com/camenduru/comfy_controlnet_preprocessors /content/drive/MyDrive/ComfyUI/custom_nodes/comfy_controlnet_preprocessors\n",
        "%cd /content/drive/MyDrive/ComfyUI/custom_nodes/comfy_controlnet_preprocessors\n",
        "!python install.py --no_download_ckpts\n",
        "%cd /content/drive/MyDrive/ComfyUI\n",
        "\n",
        "!wget https://github.com/cloudflare/cloudflared/releases/latest/download/cloudflared-linux-amd64 -O /content/cloudflared-linux-amd64 && chmod 777 /content/cloudflared-linux-amd64\n",
        "import atexit, requests, subprocess, time, re, os\n",
        "from random import randint\n",
        "from threading import Timer\n",
        "from queue import Queue\n",
        "def cloudflared(port, metrics_port, output_queue):\n",
        "    atexit.register(lambda p: p.terminate(), subprocess.Popen(['/content/cloudflared-linux-amd64', 'tunnel', '--url', f'http://127.0.0.1:{port}', '--metrics', f'127.0.0.1:{metrics_port}'], stdout=subprocess.DEVNULL, stderr=subprocess.STDOUT))\n",
        "    attempts, tunnel_url = 0, None\n",
        "    while attempts < 10 and not tunnel_url:\n",
        "        attempts += 1\n",
        "        time.sleep(3)\n",
        "        try:\n",
        "            tunnel_url = re.search(\"(?P<url>https?:\\/\\/[^\\s]+.trycloudflare.com)\", requests.get(f'http://127.0.0.1:{metrics_port}/metrics').text).group(\"url\")\n",
        "        except:\n",
        "            pass\n",
        "    if not tunnel_url:\n",
        "        raise Exception(\"Can't connect to Cloudflare Edge\")\n",
        "    output_queue.put(tunnel_url)\n",
        "output_queue, metrics_port = Queue(), randint(8100, 9000)\n",
        "thread = Timer(2, cloudflared, args=(8188, metrics_port, output_queue))\n",
        "thread.start()\n",
        "thread.join()\n",
        "tunnel_url = output_queue.get()\n",
        "os.environ['webui_url'] = tunnel_url\n",
        "print(tunnel_url)\n",
        "\n",
        "controlnet_dir = \"/content/drive/MyDrive/ComfyUI/models/controlnet\"\n",
        "upscale_dir = \"/content/drive/MyDrive/ComfyUI/models/upscale_models\"\n",
        "checkpoints_dir = \"/content/drive/MyDrive/ComfyUI/models/checkpoints\"\n",
        "\n",
        "os.makedirs(controlnet_dir, exist_ok=True)\n",
        "os.makedirs(upscale_dir, exist_ok=True)\n",
        "os.makedirs(checkpoints_dir, exist_ok=True)\n",
        "\n",
        "controlnet_files = [\n",
        "    (\"https://huggingface.co/ckpt/ControlNet-v1-1/resolve/main/control_v11e_sd15_ip2p_fp16.safetensors\", \"control_v11e_sd15_ip2p_fp16.safetensors\"),\n",
        "    (\"https://huggingface.co/ckpt/ControlNet-v1-1/resolve/main/control_v11e_sd15_shuffle_fp16.safetensors\", \"control_v11e_sd15_shuffle_fp16.safetensors\"),\n",
        "    (\"https://huggingface.co/ckpt/ControlNet-v1-1/resolve/main/control_v11p_sd15_canny_fp16.safetensors\", \"control_v11p_sd15_canny_fp16.safetensors\"),\n",
        "    (\"https://huggingface.co/ckpt/ControlNet-v1-1/resolve/main/control_v11f1p_sd15_depth_fp16.safetensors\", \"control_v11f1p_sd15_depth_fp16.safetensors\"),\n",
        "    (\"https://huggingface.co/ckpt/ControlNet-v1-1/resolve/main/control_v11p_sd15_inpaint_fp16.safetensors\", \"control_v11p_sd15_inpaint_fp16.safetensors\"),\n",
        "    (\"https://huggingface.co/ckpt/ControlNet-v1-1/resolve/main/control_v11p_sd15_lineart_fp16.safetensors\", \"control_v11p_sd15_lineart_fp16.safetensors\"),\n",
        "    (\"https://huggingface.co/ckpt/ControlNet-v1-1/resolve/main/control_v11p_sd15_mlsd_fp16.safetensors\", \"control_v11p_sd15_mlsd_fp16.safetensors\"),\n",
        "    (\"https://huggingface.co/ckpt/ControlNet-v1-1/resolve/main/control_v11p_sd15_normalbae_fp16.safetensors\", \"control_v11p_sd15_normalbae_fp16.safetensors\"),\n",
        "    (\"https://huggingface.co/ckpt/ControlNet-v1-1/resolve/main/control_v11p_sd15_openpose_fp16.safetensors\", \"control_v11p_sd15_openpose_fp16.safetensors\"),\n",
        "    (\"https://huggingface.co/ckpt/ControlNet-v1-1/resolve/main/control_v11p_sd15_scribble_fp16.safetensors\", \"control_v11p_sd15_scribble_fp16.safetensors\"),\n",
        "    (\"https://huggingface.co/ckpt/ControlNet-v1-1/resolve/main/control_v11p_sd15_seg_fp16.safetensors\", \"control_v11p_sd15_seg_fp16.safetensors\"),\n",
        "    (\"https://huggingface.co/ckpt/ControlNet-v1-1/resolve/main/control_v11p_sd15_softedge_fp16.safetensors\", \"control_v11p_sd15_softedge_fp16.safetensors\"),\n",
        "    (\"https://huggingface.co/ckpt/ControlNet-v1-1/resolve/main/control_v11p_sd15s2_lineart_anime_fp16.safetensors\", \"control_v11p_sd15s2_lineart_anime_fp16.safetensors\"),\n",
        "    (\"https://huggingface.co/ckpt/ControlNet-v1-1/resolve/main/control_v11f1e_sd15_tile_fp16.safetensors\", \"control_v11f1e_sd15_tile_fp16.safetensors\"),\n",
        "    (\"https://huggingface.co/ckpt/ControlNet-v1-1/raw/main/control_v11e_sd15_ip2p_fp16.yaml\", \"control_v11e_sd15_ip2p_fp16.yaml\"),\n",
        "    (\"https://huggingface.co/ckpt/ControlNet-v1-1/raw/main/control_v11e_sd15_shuffle_fp16.yaml\", \"control_v11e_sd15_shuffle_fp16.yaml\"),\n",
        "    (\"https://huggingface.co/ckpt/ControlNet-v1-1/raw/main/control_v11p_sd15_canny_fp16.yaml\", \"control_v11p_sd15_canny_fp16.yaml\"),\n",
        "    (\"https://huggingface.co/ckpt/ControlNet-v1-1/raw/main/control_v11f1p_sd15_depth_fp16.yaml\", \"control_v11f1p_sd15_depth_fp16.yaml\"),\n",
        "    (\"https://huggingface.co/ckpt/ControlNet-v1-1/raw/main/control_v11p_sd15_inpaint_fp16.yaml\", \"control_v11p_sd15_inpaint_fp16.yaml\"),\n",
        "    (\"https://huggingface.co/ckpt/ControlNet-v1-1/raw/main/control_v11p_sd15_lineart_fp16.yaml\", \"control_v11p_sd15_lineart_fp16.yaml\"),\n",
        "    (\"https://huggingface.co/ckpt/ControlNet-v1-1/raw/main/control_v11p_sd15_mlsd_fp16.yaml\", \"control_v11p_sd15_mlsd_fp16.yaml\"),\n",
        "    (\"https://huggingface.co/ckpt/ControlNet-v1-1/raw/main/control_v11p_sd15_normalbae_fp16.yaml\", \"control_v11p_sd15_normalbae_fp16.yaml\"),\n",
        "    (\"https://huggingface.co/ckpt/ControlNet-v1-1/raw/main/control_v11p_sd15_openpose_fp16.yaml\", \"control_v11p_sd15_openpose_fp16.yaml\"),\n",
        "    (\"https://huggingface.co/ckpt/ControlNet-v1-1/raw/main/control_v11p_sd15_scribble_fp16.yaml\", \"control_v11p_sd15_scribble_fp16.yaml\"),\n",
        "    (\"https://huggingface.co/ckpt/ControlNet-v1-1/raw/main/control_v11p_sd15_seg_fp16.yaml\", \"control_v11p_sd15_seg_fp16.yaml\"),\n",
        "    (\"https://huggingface.co/ckpt/ControlNet-v1-1/raw/main/control_v11p_sd15_softedge_fp16.yaml\", \"control_v11p_sd15_softedge_fp16.yaml\"),\n",
        "    (\"https://huggingface.co/ckpt/ControlNet-v1-1/raw/main/control_v11p_sd15s2_lineart_anime_fp16.yaml\", \"control_v11p_sd15s2_lineart_anime_fp16.yaml\"),\n",
        "    (\"https://huggingface.co/ckpt/ControlNet-v1-1/raw/main/control_v11f1e_sd15_tile_fp16.yaml\", \"control_v11f1e_sd15_tile_fp16.yaml\"),\n",
        "    (\"https://huggingface.co/ckpt/ControlNet-v1-1/resolve/main/t2iadapter_style_sd14v1.pth\", \"t2iadapter_style_sd14v1.pth\"),\n",
        "    (\"https://huggingface.co/ckpt/ControlNet-v1-1/resolve/main/t2iadapter_sketch_sd14v1.pth\", \"t2iadapter_sketch_sd14v1.pth\"),\n",
        "    (\"https://huggingface.co/ckpt/ControlNet-v1-1/resolve/main/t2iadapter_seg_sd14v1.pth\", \"t2iadapter_seg_sd14v1.pth\"),\n",
        "    (\"https://huggingface.co/ckpt/ControlNet-v1-1/resolve/main/t2iadapter_openpose_sd14v1.pth\", \"t2iadapter_openpose_sd14v1.pth\"),\n",
        "    (\"https://huggingface.co/ckpt/ControlNet-v1-1/resolve/main/t2iadapter_keypose_sd14v1.pth\", \"t2iadapter_keypose_sd14v1.pth\"),\n",
        "    (\"https://huggingface.co/ckpt/ControlNet-v1-1/resolve/main/t2iadapter_depth_sd14v1.pth\", \"t2iadapter_depth_sd14v1.pth\"),\n",
        "    (\"https://huggingface.co/ckpt/ControlNet-v1-1/resolve/main/t2iadapter_color_sd14v1.pth\", \"t2iadapter_color_sd14v1.pth\"),\n",
        "    (\"https://huggingface.co/ckpt/ControlNet-v1-1/resolve/main/t2iadapter_canny_sd14v1.pth\", \"t2iadapter_canny_sd14v1.pth\"),\n",
        "    (\"https://huggingface.co/ckpt/ControlNet-v1-1/resolve/main/t2iadapter_canny_sd15v2.pth\", \"t2iadapter_canny_sd15v2.pth\"),\n",
        "    (\"https://huggingface.co/ckpt/ControlNet-v1-1/resolve/main/t2iadapter_depth_sd15v2.pth\", \"t2iadapter_depth_sd15v2.pth\"),\n",
        "    (\"https://huggingface.co/ckpt/ControlNet-v1-1/resolve/main/t2iadapter_sketch_sd15v2.pth\", \"t2iadapter_sketch_sd15v2.pth\"),\n",
        "    (\"https://huggingface.co/ckpt/ControlNet-v1-1/resolve/main/t2iadapter_zoedepth_sd15v1.pth\", \"t2iadapter_zoedepth_sd15v1.pth\")\n",
        "]\n",
        "\n",
        "upscale_files = [\n",
        "    (\"https://github.com/xinntao/Real-ESRGAN/releases/download/v0.2.1/RealESRGAN_x2plus.pth\", \"RealESRGAN_x2plus.pth\")\n",
        "]\n",
        "\n",
        "checkpoint_files = [\n",
        "    (\"https://huggingface.co/ckpt/Comic-Diffusion/resolve/main/comic-diffusion-V2.ckpt\", \"comic-diffusion-V2.ckpt\")\n",
        "]\n",
        "\n",
        "for url, filename in controlnet_files:\n",
        "    filepath = os.path.join(controlnet_dir, filename)\n",
        "    if not os.path.exists(filepath):\n",
        "        !aria2c --console-log-level=error -c -x 16 -s 16 -k 1M {url} -d {controlnet_dir} -o {filename}\n",
        "    else:\n",
        "        print(f\"{filename} already exists, skipping download.\")\n",
        "\n",
        "for url, filename in upscale_files:\n",
        "    filepath = os.path.join(upscale_dir, filename)\n",
        "    if not os.path.exists(filepath):\n",
        "        !aria2c --console-log-level=error -c -x 16 -s 16 -k 1M {url} -d {upscale_dir} -o {filename}\n",
        "    else:\n",
        "        print(f\"{filename} already exists, skipping download.\")\n",
        "\n",
        "for url, filename in checkpoint_files:\n",
        "    filepath = os.path.join(checkpoints_dir, filename)\n",
        "    if not os.path.exists(filepath):\n",
        "        !aria2c --console-log-level=error -c -x 16 -s 16 -k 1M {url} -d {checkpoints_dir} -o {filename}\n",
        "    else:\n",
        "        print(f\"{filename} already exists, skipping download.\")\n",
        "\n",
        "!python main.py --dont-print-server"
      ],
      "metadata": {
        "id": "8bljlIgYgEcN"
      },
      "execution_count": null,
      "outputs": []
    }
  ],
  "metadata": {
    "colab": {
      "private_outputs": true,
      "provenance": [],
      "gpuType": "T4",
      "include_colab_link": true
    },
    "kernelspec": {
      "display_name": "Python 3",
      "name": "python3"
    },
    "language_info": {
      "name": "python"
    }
  },
  "nbformat": 4,
  "nbformat_minor": 0
}