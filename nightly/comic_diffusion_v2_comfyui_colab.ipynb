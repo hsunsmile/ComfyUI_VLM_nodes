{
  "cells": [
    {
      "cell_type": "markdown",
      "metadata": {
        "id": "view-in-github",
        "colab_type": "text"
      },
      "source": [
        "<a href=\"https://colab.research.google.com/github/hsunsmile/ComfyUI_VLM_nodes/blob/main/nightly/comic_diffusion_v2_comfyui_colab.ipynb\" target=\"_parent\"><img src=\"https://colab.research.google.com/assets/colab-badge.svg\" alt=\"Open In Colab\"/></a>"
      ]
    },
    {
      "cell_type": "code",
      "execution_count": null,
      "metadata": {
        "id": "SaAJk33ppFw1"
      },
      "outputs": [],
      "source": [
        "import os\n",
        "\n",
        "!apt -y update -qq\n",
        "!apt -y install -qq aria2 rsync"
      ]
    },
    {
      "cell_type": "code",
      "source": [
        "!wget https://s3.amazonaws.com/mountpoint-s3-release/latest/x86_64/mount-s3.deb\n",
        "!apt install -y ./mount-s3.deb\n",
        "\n",
        "!wget https://github.com/cloudflare/cloudflared/releases/latest/download/cloudflared-linux-amd64 -O /content/cloudflared-linux-amd64 && chmod 777 /content/cloudflared-linux-amd64"
      ],
      "metadata": {
        "id": "g2yfR_CFiqb_"
      },
      "execution_count": null,
      "outputs": []
    },
    {
      "cell_type": "code",
      "source": [
        "!pip install -q torch==2.8.0 torchvision torchaudio torchtext torchdata --extra-index-url https://download.pytorch.org/whl/cu121 -U\n",
        "!pip install -q xformers triton -U\n",
        "!pip install -q mediapipe==0.10.21 addict yapf fvcore omegaconf av\n",
        "!pip install -q torchdiffeq ftfy gguf\n",
        "!pip install -q color-matcher\n",
        "!pip install accelerate\n",
        "!pip install transformers==4.49.0 diffusers==0.32.2\n",
        "!pip install einops afetensors>=0.4.2 aiohttp pyyaml Pillow scipy tqdm psutil tokenizers>=0.13.3\n",
        "!pip install torchsde\n",
        "!pip install kornia>=0.7.1 spandrel soundfile sentencepiece"
      ],
      "metadata": {
        "id": "wxBaFZzAkO0Q"
      },
      "execution_count": null,
      "outputs": []
    },
    {
      "cell_type": "code",
      "source": [
        "import torch\n",
        "\n",
        "if torch.cuda.is_available():\n",
        "    print(\"GPU detected, installing nunchaku...\")\n",
        "    # !pip install https://github.com/nunchaku-tech/nunchaku/releases/download/v1.0.0/nunchaku-1.0.0+torch2.8-cp312-cp312-linux_x86_64.whl\n",
        "else:\n",
        "    print(\"No GPU detected, skipping nunchaku installation.\")"
      ],
      "metadata": {
        "id": "WD8xr47gMHuC"
      },
      "execution_count": null,
      "outputs": []
    },
    {
      "cell_type": "code",
      "metadata": {
        "id": "e4a03eb9"
      },
      "source": [
        "from google.colab import drive\n",
        "drive.mount('/content/drive')"
      ],
      "execution_count": null,
      "outputs": []
    },
    {
      "cell_type": "code",
      "source": [
        "import json\n",
        "OPTIONS = {}\n",
        "\n",
        "USE_GOOGLE_DRIVE = True  #@param {type:\"boolean\"}\n",
        "UPDATE_COMFY_UI = True  #@param {type:\"boolean\"}\n",
        "USE_COMFYUI_MANAGER = True  #@param {type:\"boolean\"}\n",
        "INSTALL_CUSTOM_NODES_DEPENDENCIES = True  #@param {type:\"boolean\"}\n",
        "OPTIONS['USE_GOOGLE_DRIVE'] = USE_GOOGLE_DRIVE\n",
        "OPTIONS['UPDATE_COMFY_UI'] = UPDATE_COMFY_UI\n",
        "OPTIONS['USE_COMFYUI_MANAGER'] = USE_COMFYUI_MANAGER\n",
        "OPTIONS['INSTALL_CUSTOM_NODES_DEPENDENCIES'] = INSTALL_CUSTOM_NODES_DEPENDENCIES"
      ],
      "metadata": {
        "id": "ZRaE2bc7NNZT"
      },
      "execution_count": null,
      "outputs": []
    },
    {
      "cell_type": "code",
      "source": [
        "# #@title Environment Setup\n",
        "\n",
        "from pathlib import Path\n",
        "import os\n",
        "import sys\n",
        "import tarfile\n",
        "import json # Import json for formatting\n",
        "\n",
        "\n",
        "LOCAL_WORKSPACE = \"/content/ComfyUI_local\"\n",
        "DRIVE_WORKSPACE = \"/content/drive/MyDrive/ComfyUI\"\n",
        "LOCAL_TAR_PATH = \"/content/ComfyUI_local.tar.gz\"\n",
        "DRIVE_TAR_PATH = \"/content/drive/MyDrive/ComfyUI_local.tar.gz\"\n",
        "\n",
        "os.environ['COMFYUI_PATH'] = LOCAL_WORKSPACE\n",
        "sys.path.append(LOCAL_WORKSPACE)\n",
        "\n",
        "if OPTIONS['USE_GOOGLE_DRIVE']:\n",
        "    !echo \"Mounting Google Drive...\"\n",
        "    %cd /\n",
        "\n",
        "    from google.colab import drive\n",
        "    drive.mount('/content/drive')\n",
        "\n",
        "    !echo \"Attempting to extract ComfyUI from Google Drive archive...\"\n",
        "    if os.path.exists(DRIVE_TAR_PATH):\n",
        "        !echo \"Copying archive from Google Drive...\"\n",
        "        !cp \"{DRIVE_TAR_PATH}\" \"{LOCAL_TAR_PATH}\"\n",
        "        try:\n",
        "            !echo \"Extracting archive...\"\n",
        "            with tarfile.open(LOCAL_TAR_PATH, 'r:gz') as tar:\n",
        "                tar.extractall(path=current_dir[0])\n",
        "            !echo \"Extraction complete. Using extracted files.\"\n",
        "\n",
        "            USE_GIT_CLONE = False\n",
        "        except tarfile.ReadError:\n",
        "            print(\"Error reading the tar.gz file. It might be corrupted.\")\n",
        "            USE_GIT_CLONE = True\n",
        "        finally:\n",
        "            # Clean up the copied tar file\n",
        "            if os.path.exists(LOCAL_TAR_PATH):\n",
        "                os.remove(LOCAL_TAR_PATH)\n",
        "    else:\n",
        "        !echo \"ComfyUI archive not found in Google Drive. Proceeding with git clone.\"\n",
        "        USE_GIT_CLONE = True\n",
        "\n",
        "    if USE_GIT_CLONE:\n",
        "        !echo \"Syncing files from Google Drive to local disk...\"\n",
        "        !mkdir -p {LOCAL_WORKSPACE}\n",
        "        !git clone https://github.com/comfyanonymous/ComfyUI.git {LOCAL_WORKSPACE}\n",
        "\n",
        "    # Fix nested models directory after extraction\n",
        "    correct_models_path = os.path.join(LOCAL_WORKSPACE, \"models\")\n",
        "    if os.path.exists(correct_models_path):\n",
        "        !echo \"Fixing nested models directory...\"\n",
        "        !mv {correct_models_path} {LOCAL_WORKSPACE}/models_local\n",
        "\n",
        "    !ln -nfs {DRIVE_WORKSPACE}/models {LOCAL_WORKSPACE}/models\n",
        "    !rsync -avz --progress --include 'custom_nodes/' --include 'user/' --include 'custom_nodes/*' --include 'user/*' --exclude '*' \"{DRIVE_WORKSPACE}/\" \"{LOCAL_WORKSPACE}/\"\n",
        "    !echo \"models directory linked.\""
      ],
      "metadata": {
        "id": "sKz9WFF69_FB"
      },
      "execution_count": null,
      "outputs": []
    },
    {
      "cell_type": "code",
      "source": [
        "%cd {LOCAL_WORKSPACE}\n",
        "\n",
        "if OPTIONS['UPDATE_COMFY_UI']:\n",
        "  !echo -= Updating ComfyUI =-\n",
        "  !git pull\n",
        "\n",
        "!echo -= Install dependencies =-\n",
        "!pip install -r requirements.txt\n",
        "\n",
        "if OPTIONS['USE_COMFYUI_MANAGER']:\n",
        "  %cd custom_nodes\n",
        "  ![ ! -d ComfyUI-Manager ] && echo -= Initial setup ComfyUI-Manager =- && git clone https://github.com/ltdrdata/ComfyUI-Manager\n",
        "  %cd ComfyUI-Manager\n",
        "  !git pull\n",
        "  %cd {LOCAL_WORKSPACE}\n",
        "\n",
        "if OPTIONS['INSTALL_CUSTOM_NODES_DEPENDENCIES']:\n",
        "  !echo -= Install custom nodes dependencies =-\n",
        "  !pip install GitPython\n",
        "  !python custom_nodes/ComfyUI-Manager/cm-cli.py restore-dependencies"
      ],
      "metadata": {
        "id": "NDCo4jXiOKwd"
      },
      "execution_count": null,
      "outputs": []
    },
    {
      "cell_type": "code",
      "source": [
        "import os\n",
        "import yaml\n",
        "import subprocess\n",
        "\n",
        "def download_models(config_path):\n",
        "    \"\"\"\n",
        "    Downloads models based on a configuration file.\n",
        "\n",
        "    Args:\n",
        "        config_path (str): The path to the YAML configuration file in Google Drive.\n",
        "    \"\"\"\n",
        "    try:\n",
        "        with open(config_path, 'r') as f:\n",
        "            config = yaml.safe_load(f)\n",
        "    except FileNotFoundError:\n",
        "        print(f\"Error: Config file not found at {config_path}\")\n",
        "        return\n",
        "\n",
        "    if 'models' not in config:\n",
        "        print(\"Error: 'models' key not found in the config file.\")\n",
        "        return\n",
        "\n",
        "    for model in config['models']:\n",
        "        if 'url' not in model or 'output' not in model:\n",
        "            print(f\"Skipping invalid model entry: {model}\")\n",
        "            continue\n",
        "\n",
        "        url = model['url']\n",
        "        # Get the absolute output path from the config\n",
        "        output_path = model['output']\n",
        "        output_dir = os.path.dirname(output_path)\n",
        "        output_filename = os.path.basename(output_path)\n",
        "\n",
        "\n",
        "        if not os.path.exists(output_dir):\n",
        "            os.makedirs(output_dir)\n",
        "\n",
        "        if os.path.exists(output_path):\n",
        "            print(f\"Model already exists: {output_path}\")\n",
        "        else:\n",
        "            print(f\"Downloading model from {url} to {output_path}...\")\n",
        "            # Ensure the directory exists before downloading\n",
        "            if not os.path.exists(output_dir):\n",
        "                os.makedirs(output_dir)\n",
        "\n",
        "            # Use subprocess to capture the output and return code of aria2c\n",
        "            # Use -d for output directory and -o for filename to ensure correct path\n",
        "            result = subprocess.run(\n",
        "                ['aria2c', '--console-log-level=error', '-c', '-x', '16', '-s', '16', '-k', '1M', url, '-d', output_dir, '-o', output_filename],\n",
        "                capture_output=True,\n",
        "                text=True\n",
        "            )\n",
        "\n",
        "            print(result.stdout)\n",
        "            print(result.stderr)\n",
        "\n",
        "            # Check for successful download based on aria2c return code\n",
        "            if result.returncode == 0:\n",
        "                print(\"Download complete.\")\n",
        "            else:\n",
        "                print(\"Download failed.\")\n",
        "                # Optional: Print error message if subprocess failed\n",
        "                if result.returncode != 0:\n",
        "                    print(f\"aria2c command failed with return code {result.returncode}\")\n",
        "                elif \"ERROR\" in result.stderr:\n",
        "                     print(f\"aria2c reported an error: {result.stderr}\")\n",
        "                # Re-check if file exists after a non-zero return code to provide more info\n",
        "                if not os.path.exists(output_path):\n",
        "                     print(f\"Output file not found at {output_path} after download attempt.\")"
      ],
      "metadata": {
        "id": "9aVgAUUU7G15"
      },
      "execution_count": null,
      "outputs": []
    },
    {
      "cell_type": "code",
      "metadata": {
        "id": "eb7c2128"
      },
      "source": [
        "# Example usage (assuming your config file is in your Google Drive)\n",
        "config_file = \"/content/drive/MyDrive/ComfyUI/models/model_config.yaml\"\n",
        "download_models(config_file)"
      ],
      "execution_count": null,
      "outputs": []
    },
    {
      "cell_type": "code",
      "metadata": {
        "id": "2f561682"
      },
      "source": [
        "import os\n",
        "import tarfile\n",
        "\n",
        "DRIVE_SAGE_ATTENTION_TAR = \"/content/drive/MyDrive/ComfyUI/sage_attention.tgz\"\n",
        "LOCAL_COMFYUI_CUSTOM_NODES = os.path.join(LOCAL_WORKSPACE, \"custom_nodes\")\n",
        "LOCAL_SAGE_ATTENTION_DIR = os.path.join(LOCAL_COMFYUI_CUSTOM_NODES, \"SageAttention\")\n",
        "\n",
        "if os.path.exists(DRIVE_SAGE_ATTENTION_TAR):\n",
        "    print(f\"SageAttention archive found in Google Drive: {DRIVE_SAGE_ATTENTION_TAR}\")\n",
        "    print(\"Extracting archive...\")\n",
        "    try:\n",
        "        with tarfile.open(DRIVE_SAGE_ATTENTION_TAR, 'r:gz') as tar:\n",
        "            # Added filter='data' to address the deprecation warning\n",
        "            tar.extractall(path=LOCAL_COMFYUI_CUSTOM_NODES, filter='data')\n",
        "        print(\"Extraction complete.\")\n",
        "    except tarfile.ReadError:\n",
        "        print(\"Error reading the tar.gz file. It might be corrupted.\")\n",
        "    except Exception as e:\n",
        "        print(f\"An error occurred during extraction: {e}\")\n",
        "else:\n",
        "    print(\"SageAttention archive not found in Google Drive. Cloning repository...\")\n",
        "    if not os.path.exists(LOCAL_SAGE_ATTENTION_DIR):\n",
        "        !git clone https://github.com/thu-ml/SageAttention.git {LOCAL_SAGE_ATTENTION_DIR}\n",
        "        print(\"Repository cloned.\")\n",
        "    else:\n",
        "        print(\"SageAttention directory already exists. Skipping cloning.\")\n",
        "\n",
        "    print(\"Installing SageAttention 2.2...\")\n",
        "    %cd {LOCAL_SAGE_ATTENTION_DIR}\n",
        "    !git checkout v2.2\n",
        "    # Install setuptools before installing SageAttention\n",
        "    !pip install setuptools\n",
        "    !pip install -e .\n",
        "    %cd {LOCAL_WORKSPACE}\n",
        "\n",
        "print(\"SageAttention setup complete.\")"
      ],
      "execution_count": null,
      "outputs": []
    },
    {
      "cell_type": "code",
      "source": [
        "import atexit, requests, subprocess, time, re, os\n",
        "from random import randint\n",
        "from threading import Timer\n",
        "from queue import Queue\n",
        "def cloudflared(port, metrics_port, output_queue):\n",
        "    atexit.register(lambda p: p.terminate(), subprocess.Popen(['/content/cloudflared-linux-amd64', 'tunnel', '--url', f'http://127.0.0.1:{port}', '--metrics', f'127.0.0.1:{metrics_port}'], stdout=subprocess.DEVNULL, stderr=subprocess.STDOUT))\n",
        "    attempts, tunnel_url = 0, None\n",
        "    while attempts < 10 and not tunnel_url:\n",
        "        attempts += 1\n",
        "        time.sleep(3)\n",
        "        try:\n",
        "            tunnel_url = re.search(\"(?P<url>https?:\\/\\/[^\\s]+.trycloudflare.com)\", requests.get(f'http://127.0.0.1:{metrics_port}/metrics').text).group(\"url\")\n",
        "        except:\n",
        "            pass\n",
        "    if not tunnel_url:\n",
        "        raise Exception(\"Can't connect to Cloudflare Edge\")\n",
        "    output_queue.put(tunnel_url)\n",
        "output_queue, metrics_port = Queue(), randint(8100, 9000)\n",
        "thread = Timer(2, cloudflared, args=(8188, metrics_port, output_queue))\n",
        "thread.start()\n",
        "thread.join()\n",
        "tunnel_url = output_queue.get()\n",
        "os.environ['webui_url'] = tunnel_url\n",
        "print(tunnel_url)"
      ],
      "metadata": {
        "id": "jX0bdW4l2FlL"
      },
      "execution_count": null,
      "outputs": []
    },
    {
      "cell_type": "code",
      "source": [
        "import os\n",
        "\n",
        "# Change to the correct ComfyUI local workspace directory\n",
        "%cd {LOCAL_WORKSPACE}\n",
        "!python main.py --dont-print-server"
      ],
      "metadata": {
        "id": "36nTahthqTmu"
      },
      "execution_count": null,
      "outputs": []
    },
    {
      "cell_type": "code",
      "source": [
        "import os\n",
        "import tarfile\n",
        "\n",
        "current_dir = !pwd\n",
        "LOCAL_WORKSPACE = f\"{current_dir[0]}/ComfyUI_local\"\n",
        "LOCAL_TAR_PATH = f\"{current_dir[0]}/ComfyUI_local.tar.gz\"\n",
        "DRIVE_TAR_PATH = \"/content/drive/MyDrive/ComfyUI_local.tar.gz\"\n",
        "\n",
        "# Create the tar.gz archive excluding the 'output' folder\n",
        "print(f\"Creating archive from {LOCAL_WORKSPACE} excluding 'output' folder...\")\n",
        "try:\n",
        "    # Use tar command with exclude flag\n",
        "    !tar -czf \"{LOCAL_TAR_PATH}\" --exclude='output' -C \"{current_dir[0]}\" \"{os.path.basename(LOCAL_WORKSPACE)}\"\n",
        "    print(f\"Archive created at {LOCAL_TAR_PATH}\")\n",
        "\n",
        "    # Copy the archive to Google Drive, overwriting if it exists\n",
        "    print(f\"Copying archive to Google Drive at {DRIVE_TAR_PATH}...\")\n",
        "    # !cp \"{LOCAL_TAR_PATH}\" \"{DRIVE_TAR_PATH}\"\n",
        "    print(\"Copy complete.\")\n",
        "    LOCAL_WORKSPACE = \"/content/ComfyUI_local\"\n",
        "    !rsync -avz --progress --include 'custom_nodes/' --include 'user/' --include 'custom_nodes/*' --include 'user/*' --exclude '*' \"{LOCAL_WORKSPACE}/\" \"{DRIVE_WORKSPACE}/\"\n",
        "\n",
        "    # Clean up the local tar file\n",
        "    if os.path.exists(LOCAL_TAR_PATH):\n",
        "        os.remove(LOCAL_TAR_PATH)\n",
        "        print(f\"Cleaned up local archive {LOCAL_TAR_PATH}\")\n",
        "\n",
        "except Exception as e:\n",
        "    print(f\"An error occurred: {e}\")"
      ],
      "metadata": {
        "id": "yaLz5NXzyrD_"
      },
      "execution_count": null,
      "outputs": []
    }
  ],
  "metadata": {
    "colab": {
      "private_outputs": true,
      "provenance": [],
      "machine_shape": "hm",
      "gpuType": "L4",
      "include_colab_link": true
    },
    "kernelspec": {
      "display_name": "Python 3",
      "name": "python3"
    },
    "language_info": {
      "name": "python"
    },
    "accelerator": "GPU"
  },
  "nbformat": 4,
  "nbformat_minor": 0
}