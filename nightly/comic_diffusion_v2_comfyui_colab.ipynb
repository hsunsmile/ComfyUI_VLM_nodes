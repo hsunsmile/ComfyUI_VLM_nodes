{
  "cells": [
    {
      "cell_type": "markdown",
      "metadata": {
        "id": "view-in-github",
        "colab_type": "text"
      },
      "source": [
        "<a href=\"https://colab.research.google.com/github/hsunsmile/ComfyUI_VLM_nodes/blob/main/nightly/comic_diffusion_v2_comfyui_colab.ipynb\" target=\"_parent\"><img src=\"https://colab.research.google.com/assets/colab-badge.svg\" alt=\"Open In Colab\"/></a>"
      ]
    },
    {
      "cell_type": "code",
      "execution_count": null,
      "metadata": {
        "id": "SaAJk33ppFw1"
      },
      "outputs": [],
      "source": [
        "import os\n",
        "\n",
        "!apt -y update -qq\n",
        "!apt -y install -qq aria2 rsync"
      ]
    },
    {
      "cell_type": "code",
      "source": [
        "!wget https://s3.amazonaws.com/mountpoint-s3-release/latest/x86_64/mount-s3.deb\n",
        "!apt install -y ./mount-s3.deb\n",
        "\n",
        "!wget https://github.com/cloudflare/cloudflared/releases/latest/download/cloudflared-linux-amd64 -O /content/cloudflared-linux-amd64 && chmod 777 /content/cloudflared-linux-amd64"
      ],
      "metadata": {
        "id": "g2yfR_CFiqb_"
      },
      "execution_count": null,
      "outputs": []
    },
    {
      "cell_type": "code",
      "source": [
        "!pip install -q protobuf==5.29.1 numpy==2.0.0 -U\n",
        "!pip install -q torch==2.8.0 torchvision torchaudio torchtext torchdata --extra-index-url https://download.pytorch.org/whl/cu121 -U\n",
        "!pip install -q xformers triton -U\n",
        "!pip install -q mediapipe==0.10.21 addict yapf fvcore omegaconf av ftfy\n",
        "!pip install -q torchdiffeq ftfy gguf sageattention nunchaku\n",
        "!pip install -q color-matcher"
      ],
      "metadata": {
        "id": "wxBaFZzAkO0Q"
      },
      "execution_count": null,
      "outputs": []
    },
    {
      "cell_type": "code",
      "source": [
        "import torch\n",
        "\n",
        "if torch.cuda.is_available():\n",
        "    print(\"GPU detected, installing nunchaku...\")\n",
        "    !pip install https://github.com/nunchaku-tech/nunchaku/releases/download/v1.0.0/nunchaku-1.0.0+torch2.8-cp312-cp312-linux_x86_64.whl\n",
        "else:\n",
        "    print(\"No GPU detected, skipping nunchaku installation.\")"
      ],
      "metadata": {
        "id": "WD8xr47gMHuC"
      },
      "execution_count": null,
      "outputs": []
    },
    {
      "cell_type": "code",
      "metadata": {
        "id": "e4a03eb9"
      },
      "source": [
        "from google.colab import drive\n",
        "drive.mount('/content/drive')"
      ],
      "execution_count": null,
      "outputs": []
    },
    {
      "cell_type": "code",
      "source": [
        "# #@title Environment Setup\n",
        "\n",
        "from pathlib import Path\n",
        "import os\n",
        "import sys\n",
        "import tarfile\n",
        "\n",
        "OPTIONS = {}\n",
        "\n",
        "USE_GOOGLE_DRIVE = True  #@param {type:\"boolean\"}\n",
        "UPDATE_COMFY_UI = True  #@param {type:\"boolean\"}\n",
        "USE_COMFYUI_MANAGER = True  #@param {type:\"boolean\"}\n",
        "INSTALL_CUSTOM_NODES_DEPENDENCIES = True  #@param {type:\"boolean\"}\n",
        "OPTIONS['USE_GOOGLE_DRIVE'] = USE_GOOGLE_DRIVE\n",
        "OPTIONS['UPDATE_COMFY_UI'] = UPDATE_COMFY_UI\n",
        "OPTIONS['USE_COMFYUI_MANAGER'] = USE_COMFYUI_MANAGER\n",
        "OPTIONS['INSTALL_CUSTOM_NODES_DEPENDENCIES'] = INSTALL_CUSTOM_NODES_DEPENDENCIES\n",
        "\n",
        "current_dir = !pwd\n",
        "LOCAL_WORKSPACE = f\"{current_dir[0]}/ComfyUI_local\"\n",
        "DRIVE_WORKSPACE = \"/content/drive/MyDrive/ComfyUI\"\n",
        "LOCAL_TAR_PATH = f\"{current_dir[0]}/ComfyUI_local.tar.gz\"\n",
        "DRIVE_TAR_PATH = \"/content/drive/MyDrive/ComfyUI_local.tar.gz\"\n",
        "\n",
        "os.environ['COMFYUI_PATH'] = LOCAL_WORKSPACE\n",
        "sys.path.append(LOCAL_WORKSPACE)\n",
        "\n",
        "if OPTIONS['USE_GOOGLE_DRIVE']:\n",
        "    !echo \"Mounting Google Drive...\"\n",
        "    %cd /\n",
        "\n",
        "    from google.colab import drive\n",
        "    drive.mount('/content/drive')\n",
        "\n",
        "    !echo \"Attempting to extract ComfyUI from Google Drive archive...\"\n",
        "    if os.path.exists(DRIVE_TAR_PATH):\n",
        "        !echo \"Copying archive from Google Drive...\"\n",
        "        !cp \"{DRIVE_TAR_PATH}\" \"{LOCAL_TAR_PATH}\"\n",
        "        try:\n",
        "            !echo \"Extracting archive...\"\n",
        "            with tarfile.open(LOCAL_TAR_PATH, 'r:gz') as tar:\n",
        "                tar.extractall(path=current_dir[0])\n",
        "            !echo \"Extraction complete. Using extracted files.\"\n",
        "\n",
        "            # Fix nested models directory after extraction\n",
        "            nested_models_path = os.path.join(LOCAL_WORKSPACE, \"models\", \"models\")\n",
        "            correct_models_path = os.path.join(LOCAL_WORKSPACE, \"models\")\n",
        "            if os.path.exists(nested_models_path):\n",
        "                !echo \"Fixing nested models directory...\"\n",
        "                !mv {correct_models_path} {LOCAL_WORKSPACE}/models_local\n",
        "                !mv {nested_models_path} {LOCAL_WORKSPACE}\n",
        "                !rm -rf {LOCAL_WORKSPACE}/models_local\n",
        "                !echo \"Nested models directory fixed.\"\n",
        "\n",
        "\n",
        "            USE_GIT_CLONE = False\n",
        "        except tarfile.ReadError:\n",
        "            print(\"Error reading the tar.gz file. It might be corrupted.\")\n",
        "            USE_GIT_CLONE = True\n",
        "        finally:\n",
        "            # Clean up the copied tar file\n",
        "            if os.path.exists(LOCAL_TAR_PATH):\n",
        "                os.remove(LOCAL_TAR_PATH)\n",
        "    else:\n",
        "        !echo \"ComfyUI archive not found in Google Drive. Proceeding with git clone.\"\n",
        "        USE_GIT_CLONE = True\n",
        "\n",
        "    if USE_GIT_CLONE:\n",
        "        !echo \"Syncing files from Google Drive to local disk...\"\n",
        "        !mkdir -p {LOCAL_WORKSPACE}\n",
        "        !git clone https://github.com/comfyanonymous/ComfyUI.git {LOCAL_WORKSPACE}\n",
        "        !rsync -av --progress --exclude 'models/' --exclude '.git/' --exclude '__pycache__/' \"{DRIVE_WORKSPACE}/\" \"{LOCAL_WORKSPACE}/\"\n",
        "        !ln -s \"{DRIVE_WORKSPACE}/models\" \"{LOCAL_WORKSPACE}/models\"\n",
        "\n",
        "%cd {LOCAL_WORKSPACE}\n",
        "\n",
        "if OPTIONS['UPDATE_COMFY_UI']:\n",
        "  !echo -= Updating ComfyUI =-\n",
        "  !git pull\n",
        "\n",
        "!echo -= Install dependencies =-\n",
        "!pip3 install accelerate\n",
        "!pip3 install einops transformers>=4.28.1 safetensors>=0.4.2 aiohttp pyyaml Pillow scipy tqdm psutil tokenizers>=0.13.3\n",
        "!pip3 install torchsde\n",
        "!pip3 install kornia>=0.7.1 spandrel soundfile sentencepiece\n",
        "!pip3 install -r requirements.txt\n",
        "\n",
        "if OPTIONS['USE_COMFYUI_MANAGER']:\n",
        "  %cd custom_nodes\n",
        "  ![ ! -d ComfyUI-Manager ] && echo -= Initial setup ComfyUI-Manager =- && git clone https://github.com/ltdrdata/ComfyUI-Manager\n",
        "  %cd ComfyUI-Manager\n",
        "  !git pull\n",
        "  %cd {LOCAL_WORKSPACE} # Return to local workspace after updating manager\n",
        "\n",
        "if OPTIONS['INSTALL_CUSTOM_NODES_DEPENDENCIES']:\n",
        "  !echo -= Install custom nodes dependencies =-\n",
        "  !pip install GitPython\n",
        "  !python custom_nodes/ComfyUI-Manager/cm-cli.py restore-dependencies\n",
        "\n",
        "# Sync updated files back to Google Drive\n",
        "if OPTIONS['USE_GOOGLE_DRIVE']:\n",
        "    !echo \"Syncing updated files from local disk to Google Drive...\"\n",
        "    !rsync -av --progress --exclude 'models/' --exclude '__pycache__/' \"{LOCAL_WORKSPACE}/\" \"{DRIVE_WORKSPACE}/\""
      ],
      "metadata": {
        "id": "sKz9WFF69_FB"
      },
      "execution_count": null,
      "outputs": []
    },
    {
      "cell_type": "code",
      "source": [
        "import os\n",
        "import yaml\n",
        "import subprocess\n",
        "\n",
        "def download_models(config_path):\n",
        "    \"\"\"\n",
        "    Downloads models based on a configuration file.\n",
        "\n",
        "    Args:\n",
        "        config_path (str): The path to the YAML configuration file in Google Drive.\n",
        "    \"\"\"\n",
        "    try:\n",
        "        with open(config_path, 'r') as f:\n",
        "            config = yaml.safe_load(f)\n",
        "    except FileNotFoundError:\n",
        "        print(f\"Error: Config file not found at {config_path}\")\n",
        "        return\n",
        "\n",
        "    if 'models' not in config:\n",
        "        print(\"Error: 'models' key not found in the config file.\")\n",
        "        return\n",
        "\n",
        "    for model in config['models']:\n",
        "        if 'url' not in model or 'output' not in model:\n",
        "            print(f\"Skipping invalid model entry: {model}\")\n",
        "            continue\n",
        "\n",
        "        url = model['url']\n",
        "        output_path = model['output']\n",
        "        output_dir = os.path.dirname(output_path)\n",
        "\n",
        "        if not os.path.exists(output_dir):\n",
        "            os.makedirs(output_dir)\n",
        "\n",
        "        if os.path.exists(output_path):\n",
        "            print(f\"Model already exists: {output_path}\")\n",
        "        else:\n",
        "            print(f\"Downloading model from {url} to {output_path}...\")\n",
        "            # Ensure the directory exists before downloading\n",
        "            if not os.path.exists(output_dir):\n",
        "                os.makedirs(output_dir)\n",
        "\n",
        "            # Use subprocess to capture the output and return code of aria2c\n",
        "            result = subprocess.run(\n",
        "                ['aria2c', '--console-log-level=error', '-c', '-x', '16', '-s', '16', '-k', '1M', url, '-o', output_path],\n",
        "                capture_output=True,\n",
        "                text=True\n",
        "            )\n",
        "\n",
        "            print(result.stdout)\n",
        "            print(result.stderr)\n",
        "\n",
        "            # Check for successful download based on aria2c return code\n",
        "            if result.returncode == 0:\n",
        "                print(\"Download complete.\")\n",
        "            else:\n",
        "                print(\"Download failed.\")\n",
        "                # Optional: Print error message if subprocess failed\n",
        "                if result.returncode != 0:\n",
        "                    print(f\"aria2c command failed with return code {result.returncode}\")\n",
        "                elif \"ERROR\" in result.stderr:\n",
        "                     print(f\"aria2c reported an error: {result.stderr}\")\n",
        "                # Re-check if file exists after a non-zero return code to provide more info\n",
        "                if not os.path.exists(output_path):\n",
        "                     print(f\"Output file not found at {output_path} after download attempt.\")\n",
        "\n",
        "\n"
      ],
      "metadata": {
        "id": "9aVgAUUU7G15"
      },
      "execution_count": null,
      "outputs": []
    },
    {
      "cell_type": "code",
      "metadata": {
        "id": "eb7c2128"
      },
      "source": [
        "# Example usage (assuming your config file is in your Google Drive)\n",
        "config_file = \"/content/drive/MyDrive/ComfyUI/models/model_config.yaml\"\n",
        "download_models(config_file)"
      ],
      "execution_count": null,
      "outputs": []
    },
    {
      "cell_type": "code",
      "source": [
        "import atexit, requests, subprocess, time, re, os\n",
        "from random import randint\n",
        "from threading import Timer\n",
        "from queue import Queue\n",
        "def cloudflared(port, metrics_port, output_queue):\n",
        "    atexit.register(lambda p: p.terminate(), subprocess.Popen(['/content/cloudflared-linux-amd64', 'tunnel', '--url', f'http://127.0.0.1:{port}', '--metrics', f'127.0.0.1:{metrics_port}'], stdout=subprocess.DEVNULL, stderr=subprocess.STDOUT))\n",
        "    attempts, tunnel_url = 0, None\n",
        "    while attempts < 10 and not tunnel_url:\n",
        "        attempts += 1\n",
        "        time.sleep(3)\n",
        "        try:\n",
        "            tunnel_url = re.search(\"(?P<url>https?:\\/\\/[^\\s]+.trycloudflare.com)\", requests.get(f'http://127.0.0.1:{metrics_port}/metrics').text).group(\"url\")\n",
        "        except:\n",
        "            pass\n",
        "    if not tunnel_url:\n",
        "        raise Exception(\"Can't connect to Cloudflare Edge\")\n",
        "    output_queue.put(tunnel_url)\n",
        "output_queue, metrics_port = Queue(), randint(8100, 9000)\n",
        "thread = Timer(2, cloudflared, args=(8188, metrics_port, output_queue))\n",
        "thread.start()\n",
        "thread.join()\n",
        "tunnel_url = output_queue.get()\n",
        "os.environ['webui_url'] = tunnel_url\n",
        "print(tunnel_url)"
      ],
      "metadata": {
        "id": "jX0bdW4l2FlL"
      },
      "execution_count": null,
      "outputs": []
    },
    {
      "cell_type": "code",
      "source": [
        "%cd {LOCAL_WORKSPACE}\n",
        "!python main.py --dont-print-server"
      ],
      "metadata": {
        "id": "36nTahthqTmu"
      },
      "execution_count": null,
      "outputs": []
    },
    {
      "cell_type": "code",
      "source": [
        "import os\n",
        "import tarfile\n",
        "\n",
        "current_dir = !pwd\n",
        "LOCAL_WORKSPACE = f\"{current_dir[0]}/ComfyUI_local\"\n",
        "LOCAL_TAR_PATH = f\"{current_dir[0]}/ComfyUI_local.tar.gz\"\n",
        "DRIVE_TAR_PATH = \"/content/drive/MyDrive/ComfyUI_local.tar.gz\"\n",
        "\n",
        "# Create the tar.gz archive\n",
        "print(f\"Creating archive from {LOCAL_WORKSPACE}...\")\n",
        "try:\n",
        "    with tarfile.open(LOCAL_TAR_PATH, \"w:gz\") as tar:\n",
        "        tar.add(LOCAL_WORKSPACE, arcname=os.path.basename(LOCAL_WORKSPACE))\n",
        "    print(f\"Archive created at {LOCAL_TAR_PATH}\")\n",
        "\n",
        "    # Copy the archive to Google Drive, overwriting if it exists\n",
        "    print(f\"Copying archive to Google Drive at {DRIVE_TAR_PATH}...\")\n",
        "    !cp \"{LOCAL_TAR_PATH}\" \"{DRIVE_TAR_PATH}\"\n",
        "    print(\"Copy complete.\")\n",
        "\n",
        "    # Clean up the local tar file\n",
        "    if os.path.exists(LOCAL_TAR_PATH):\n",
        "        os.remove(LOCAL_TAR_PATH)\n",
        "        print(f\"Cleaned up local archive {LOCAL_TAR_PATH}\")\n",
        "\n",
        "except Exception as e:\n",
        "    print(f\"An error occurred: {e}\")"
      ],
      "metadata": {
        "id": "yaLz5NXzyrD_"
      },
      "execution_count": null,
      "outputs": []
    }
  ],
  "metadata": {
    "colab": {
      "private_outputs": true,
      "provenance": [],
      "machine_shape": "hm",
      "gpuType": "T4",
      "include_colab_link": true
    },
    "kernelspec": {
      "display_name": "Python 3",
      "name": "python3"
    },
    "language_info": {
      "name": "python"
    },
    "accelerator": "GPU"
  },
  "nbformat": 4,
  "nbformat_minor": 0
}